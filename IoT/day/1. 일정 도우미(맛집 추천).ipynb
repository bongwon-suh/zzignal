{
 "cells": [
  {
   "cell_type": "code",
   "execution_count": null,
   "metadata": {},
   "outputs": [],
   "source": [
    "!pip install --upgrade google-api-python-client google-auth-httplib2 google-auth-oauthlib\n",
    "!pip install requests"
   ]
  },
  {
   "cell_type": "code",
   "execution_count": null,
   "metadata": {},
   "outputs": [],
   "source": [
    "##################################################\n",
    "# 1. 인증\n",
    "##################################################"
   ]
  },
  {
   "cell_type": "code",
   "execution_count": null,
   "metadata": {},
   "outputs": [],
   "source": [
    "# 1-1. 구글 API 인증\n",
    "from google_auth_oauthlib.flow import InstalledAppFlow\n",
    "\n",
    "# 구글 OAuth 클라이언트 ID Json 파일\n",
    "gcreds_filename = 'auth/gcredentials.json'\n",
    "\n",
    "# 캘린더에서 사용할 권한\n",
    "SCOPES = ['https://www.googleapis.com/auth/calendar']\n",
    "\n",
    "# 새로운 창에서 로그인 하시면 인증 정보를 얻게 됩니다.\n",
    "flow = InstalledAppFlow.from_client_secrets_file(gcreds_filename, SCOPES)\n",
    "gcreds = flow.run_local_server(port=0)"
   ]
  },
  {
   "cell_type": "code",
   "execution_count": null,
   "metadata": {},
   "outputs": [],
   "source": [
    "# 1-2. 카카오톡 인증\n",
    "# https://developers.kakao.com/docs/restapi/tool\n",
    "# 해당 사이트에서 로그인 후 'Access token'을 얻어오세요\n",
    "kcreds = {\n",
    "    \"access_token\" : \"<Access token>\"\n",
    "}\n",
    "kheaders = {\n",
    "    \"Authorization\": \"Bearer \" + kcreds.get('access_token')\n",
    "}"
   ]
  },
  {
   "cell_type": "code",
   "execution_count": null,
   "metadata": {},
   "outputs": [],
   "source": [
    "# 1-3. 네이버 인증\n",
    "# https://developers.naver.com/apps\n",
    "# 해당 사이트에서 로그인 후 \"Cliend ID\"와 \"Client Secret\"을 얻어오세요\n",
    "ncreds = {\n",
    "    \"client_id\": \"<Client ID>\",\n",
    "    \"client_secret\" : \"<Client Secret>\"\n",
    "}\n",
    "nheaders = {\n",
    "    \"X-Naver-Client-Id\" : ncreds.get('client_id'),\n",
    "    \"X-Naver-Client-Secret\" : ncreds.get('client_secret')\n",
    "}"
   ]
  },
  {
   "cell_type": "code",
   "execution_count": null,
   "metadata": {},
   "outputs": [],
   "source": [
    "##################################################\n",
    "# 2. 구글 캘린더 일정 가져오기\n",
    "##################################################"
   ]
  },
  {
   "cell_type": "code",
   "execution_count": null,
   "metadata": {},
   "outputs": [],
   "source": [
    "# 기본 라이브러리 import\n",
    "import datetime\n",
    "import requests\n",
    "import urllib\n",
    "import json"
   ]
  },
  {
   "cell_type": "code",
   "execution_count": null,
   "metadata": {},
   "outputs": [],
   "source": [
    "# 구글 캘린더 API 서비스 객체 생성\n",
    "from googleapiclient.discovery import build\n",
    "\n",
    "service = build('calendar', 'v3', credentials=gcreds)\n",
    "\n",
    "# 조회에 사용될 요청 변수 지정\n",
    "calendar_id = 'primary'                   # 사용할 캘린더 ID\n",
    "today = datetime.date.today().isoformat()\n",
    "time_min = today + 'T00:00:00+09:00'      # 일정을 조회할 최소 날짜\n",
    "time_max = today + 'T23:59:59+09:00'      # 일정을 조회할 최대 날짜\n",
    "max_results = 1                           # 일정을 조회할 최대 개수\n",
    "is_single_events = True                   # 반복 일정의 여부\n",
    "orderby = 'startTime'                     # 일정 정렬\n",
    "\n",
    "# 오늘 일정 가져오기\n",
    "events_result = service.events().list(calendarId = calendar_id,\n",
    "                                      timeMin = time_min,\n",
    "                                      timeMax = time_max,\n",
    "                                      maxResults = max_results,\n",
    "                                      singleEvents = is_single_events,\n",
    "                                      orderBy = orderby).execute()\n",
    "\n",
    "events_result.get('items', [])"
   ]
  },
  {
   "cell_type": "code",
   "execution_count": null,
   "metadata": {},
   "outputs": [],
   "source": [
    "##################################################\n",
    "# 3. 일정 데이터 정제하기\n",
    "##################################################\n",
    "# 테스트를 위해 오늘 일정에서 한 개만 가져오겠습니다.\n",
    "items = events_result.get('items')\n",
    "item = items[0]\n",
    "\n",
    "# 일정 제목\n",
    "gsummary = item.get('summary')\n",
    "\n",
    "# 일정 제목에서 [식사-국민대]에서 카테고리와 장소만 빼내옵니다.\n",
    "gcategory, glocation = gsummary[gsummary.index('[')+1 : gsummary.index(']')].split('-')\n",
    "\n",
    "# 해당 구글 캘린더 일정 연결 링크\n",
    "gevent_url = item.get('htmlLink')\n",
    "\n",
    "gaddress = item.get('location')\n",
    "# 구글 주소를 정제합니다.\n",
    "# ex) \"국민대학교, 대한민국 서울특별시 성북구 정릉동 정릉로 77\" => \"대한민국 서울특별시 성북구 정릉동 정릉로 77\"\n",
    "if ',' in gaddress:\n",
    "    gaddress = gaddress.split(',')[1].strip()"
   ]
  },
  {
   "cell_type": "code",
   "execution_count": null,
   "metadata": {},
   "outputs": [],
   "source": [
    "##################################################\n",
    "# 4. 일정 위치 주변 맛집 검색\n",
    "##################################################"
   ]
  },
  {
   "cell_type": "code",
   "execution_count": null,
   "metadata": {},
   "outputs": [],
   "source": [
    "# '식사' 카테고리만 처리하기 원한다면 if문 안으로 코드를 넣으세요.\n",
    "# if '식사' in category:\n",
    "\n",
    "# 인코딩된 맛집 검색어\n",
    "enc_location = urllib.parse.quote(glocation + \"맛집\")\n",
    "\n",
    "# 검색에 사용될 정보\n",
    "# sort : \"comment\"을 넣으면 블로그 리뷰순으로 정렬\n",
    "# query : 검색어\n",
    "nparams = \"sort=comment&query=\" + enc_location\n",
    "\n",
    "# 네이버 지역 검색 주소 및 검색할 정보\n",
    "naver_local_url = \"https://openapi.naver.com/v1/search/local.json?\" + nparams\n",
    "\n",
    "# 네이버에 일정 장소 주변 맛집을 검색합니다.\n",
    "res = requests.get(naver_local_url, headers=nheaders)\n",
    "\n",
    "# 검색 결과로 받아온 10개의 결과\n",
    "places = res.json().get('items')\n",
    "\n",
    "places[0]"
   ]
  },
  {
   "cell_type": "code",
   "execution_count": null,
   "metadata": {},
   "outputs": [],
   "source": [
    "##################################################\n",
    "# 5. 맛집 정보 카카오톡으로 보내기\n",
    "##################################################"
   ]
  },
  {
   "cell_type": "code",
   "execution_count": null,
   "metadata": {},
   "outputs": [],
   "source": [
    "# 5-1. 리스트 템플릿 형식 맞추기\n",
    "# 카카오톡 리스트 템플릿은 최대 3개를 표현하기 때문에 3개만 가져오겠습니다.\n",
    "contents = []\n",
    "for place in places[:3]:\n",
    "    ntitle = place.get('title')  # 장소 이름\n",
    "    ncategory = place.get('category')  # 장소 카테고리\n",
    "    ntelephone = place.get('telephone')  # 장소 전화번호\n",
    "    nlocation = place.get('address')  # 장소 지번 주소\n",
    "\n",
    "    # 각 장소를 클릭할 때 네이버 검색으로 연결해주기 위해 작성된 코드\n",
    "    enc_location = urllib.parse.quote(nlocation + ' ' + ntitle)\n",
    "    query = \"query=\" + enc_location\n",
    "\n",
    "    # 장소 카테고리가 카페이면 카페 이미지\n",
    "    # 이외에는 음식 이미지\n",
    "    if '카페' in ncategory:\n",
    "        image_url = \"https://freesvg.org/img/pitr_Coffee_cup_icon.png\"\n",
    "    else:\n",
    "        image_url = \"https://freesvg.org/img/bentolunch.png?w=150&h=150&fit=fill\"\n",
    "\n",
    "    # 전화번호가 있다면 제목과 함께 넣어줍니다.\n",
    "    if ntelephone:\n",
    "        ntitle = ntitle + \"\\ntel) \" + ntelephone\n",
    "\n",
    "    # 카카오톡 리스트 템플릿 형식에 맞춰줍니다.\n",
    "    content = {\n",
    "        \"title\": \"[\" + ncategory + \"] \" + ntitle,\n",
    "        \"description\": ' '.join(nlocation.split()[1:]),\n",
    "        \"image_url\": image_url,\n",
    "        \"image_width\": 50, \"image_height\": 50,\n",
    "        \"link\": {\n",
    "            \"web_url\": \"https://search.naver.com/search.naver?\" + query,\n",
    "            \"mobile_web_url\": \"https://search.naver.com/search.naver?\" + query\n",
    "        }\n",
    "    }\n",
    "    contents.append(content)"
   ]
  },
  {
   "cell_type": "code",
   "execution_count": null,
   "metadata": {},
   "outputs": [],
   "source": [
    "# 일정 주소 네이버 연결 링크\n",
    "enc_gaddress = urllib.parse.quote(gaddress)\n",
    "query = \"query=\" + enc_gaddress\n",
    "gaddr_url = \"https://search.naver.com/search.naver?\" + query\n",
    "\n",
    "gaddr_url"
   ]
  },
  {
   "cell_type": "code",
   "execution_count": null,
   "metadata": {},
   "outputs": [],
   "source": [
    "# 카카오톡 리스트 템플릿을 작성해봅니다.\n",
    "ktemplate = {\n",
    "    \"object_type\" : \"list\",\n",
    "    \"header_title\" : \"'%s' - 맛집 추천\" % gsummary,\n",
    "    \"header_link\" : {\n",
    "        \"web_url\": gevent_url,\n",
    "        \"mobile_web_url\" : gevent_url\n",
    "    },\n",
    "    \"contents\" : contents,\n",
    "    \"buttons\" : [\n",
    "        {\n",
    "            \"title\" : \"일정 자세히 보기\",\n",
    "            \"link\" : {\n",
    "                \"web_url\": gevent_url,\n",
    "                \"mobile_web_url\" : gevent_url\n",
    "            }\n",
    "        },\n",
    "        {\n",
    "            \"title\" : \"일정 장소 보기\",\n",
    "            \"link\": {\n",
    "                \"web_url\": gaddr_url ,\n",
    "                \"mobile_web_url\": gaddr_url\n",
    "            }\n",
    "        }\n",
    "    ],\n",
    "}\n",
    "\n",
    "# json 형식의 string을 보내야하기 때문에 json.dumps로 dict => string(json)으로 바꿔줍니다.\n",
    "kpayload = {\n",
    "    \"template_object\" : json.dumps(ktemplate)\n",
    "}\n",
    "\n",
    "kpayload"
   ]
  },
  {
   "cell_type": "code",
   "execution_count": null,
   "metadata": {},
   "outputs": [],
   "source": [
    "# 5-2. 카카오톡 보내기\n",
    "\n",
    "# 기본 템플릿(피드, 리스트, 위치, 커머스, 텍스트) : https://kapi.kakao.com/v2/api/talk/memo/default/send\n",
    "# 스크랩 템플릿 : https://kapi.kakao.com/v2/api/talk/memo/scrap/send\n",
    "# 커스텀 템플릿 : https://kapi.kakao.com/v2/api/talk/memo/send\n",
    "kakaotalk_template_url = \"https://kapi.kakao.com/v2/api/talk/memo/default/send\"\n",
    "\n",
    "res = requests.post(kakaotalk_template_url, data=kpayload, headers=kheaders)\n",
    "\n",
    "res.json()\n",
    "# {'result_code': 0}"
   ]
  }
 ],
 "metadata": {
  "kernelspec": {
   "display_name": "Python 3",
   "language": "python",
   "name": "python3"
  },
  "language_info": {
   "codemirror_mode": {
    "name": "ipython",
    "version": 3
   },
   "file_extension": ".py",
   "mimetype": "text/x-python",
   "name": "python",
   "nbconvert_exporter": "python",
   "pygments_lexer": "ipython3",
   "version": "3.5.6"
  }
 },
 "nbformat": 4,
 "nbformat_minor": 4
}
